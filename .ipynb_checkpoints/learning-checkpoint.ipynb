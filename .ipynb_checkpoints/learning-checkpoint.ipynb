{
 "cells": [
  {
   "cell_type": "code",
   "execution_count": 4,
   "metadata": {},
   "outputs": [],
   "source": [
    "from bokeh.plotting import figure, output_file, show\n",
    "import pandas\n",
    "if __name__ == '__main__':\n",
    "    df = pandas.DataFrame(columns=[\"X\", \"Y\"])\n",
    "    df[\"X\"] = [1,2,3,4,5]\n",
    "    df[\"Y\"] = [5,6,4,5,3]\n",
    "    plot = figure(title=\"Temperature Obseravations\", x_axis_label=\"Day of observations\",y_axis_label=\"Temperature\")\n",
    "\n",
    "    plot.circle(df[\"X\"],df[\"Y\"], line_width=2, line_color='green')\n",
    "    output_file(\"Scatterchart.html\")\n",
    "    show(plot)"
   ]
  },
  {
   "cell_type": "code",
   "execution_count": 23,
   "metadata": {},
   "outputs": [],
   "source": [
    "from bokeh.plotting import figure, output_file, show\n",
    "import pandas\n",
    "\n",
    "df = pandas.DataFrame(columns=[\"X\", \"Y\"])\n",
    "df[\"X\"] = [1,2,3,4,5]\n",
    "df[\"Y\"] = [5,6,4,5,3]\n",
    "plot = figure(plot_width=500, plot_height=400)\n",
    "plot.title.text=\"Earthquakes\"\n",
    "plot.title.text_color=\"Purple\"\n",
    "plot.title.text_font=\"times\"\n",
    "plot.title.text_font_style=\"italic\"\n",
    "plot.yaxis.minor_tick_line_color= \"green\"\n",
    "\n",
    "x_axis_label=\"Times\"\n",
    "y_axis_label=\"Values\"\n",
    "\n",
    "plot.circle(df[\"X\"],df[\"Y\"], color='red', size=[i*2 for i in [8,12,14,15,17]], alpha=0.5)\n",
    "output_file(\"Scatterchart.html\")\n",
    "show(plot)"
   ]
  },
  {
   "cell_type": "code",
   "execution_count": 41,
   "metadata": {},
   "outputs": [],
   "source": [
    "import pandas\n",
    "\n",
    "from bokeh.plotting import figure, output_file, show\n",
    "\n",
    "\n",
    "# xls = pd.ExcelFile('path_to_file.xls')\n",
    "df=pandas.read_excel(\"verlegenhuken1.xls\",sheet_name='1')\n",
    "df[\"Temperature\"]=df[\"Temperature\"]/10\n",
    "df[\"Pressure\"]=df[\"Pressure\"]/10\n",
    "\n",
    "p=figure(plot_width=500,plot_height=400,tools='pan')\n",
    "\n",
    "p.title.text=\"Temperature and Air Pressure\"\n",
    "p.title.text_color=\"Gray\"\n",
    "p.title.text_font=\"arial\"\n",
    "p.title.text_font_style=\"bold\"\n",
    "p.xaxis.minor_tick_line_color=None\n",
    "p.yaxis.minor_tick_line_color=None\n",
    "p.xaxis.axis_label=\"Temperature (C)\"\n",
    "p.yaxis.axis_label=\"Pressure (hPa)\"    \n",
    "\n",
    "p.circle(df[\"Temperature\"],df[\"Pressure\"],size=0.5)\n",
    "output_file(\"Weather.html\")\n",
    "show(p)"
   ]
  }
 ],
 "metadata": {
  "kernelspec": {
   "display_name": "Python 3",
   "language": "python",
   "name": "python3"
  },
  "language_info": {
   "codemirror_mode": {
    "name": "ipython",
    "version": 3
   },
   "file_extension": ".py",
   "mimetype": "text/x-python",
   "name": "python",
   "nbconvert_exporter": "python",
   "pygments_lexer": "ipython3",
   "version": "3.6.2"
  }
 },
 "nbformat": 4,
 "nbformat_minor": 4
}
