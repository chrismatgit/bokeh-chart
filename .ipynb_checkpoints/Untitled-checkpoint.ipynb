{
 "cells": [
  {
   "cell_type": "code",
   "execution_count": 4,
   "metadata": {},
   "outputs": [],
   "source": [
    "from bokeh.plotting import figure, output_file, show\n",
    "import pandas\n",
    "if __name__ == '__main__':\n",
    "    df = pandas.DataFrame(columns=[\"X\", \"Y\"])\n",
    "    df[\"X\"] = [1,2,3,4,5]\n",
    "    df[\"Y\"] = [5,6,4,5,3]\n",
    "    plot = figure(title=\"Temperature Obseravations\", x_axis_label=\"Day of observations\",y_axis_label=\"Temperature\")\n",
    "\n",
    "    plot.circle(df[\"X\"],df[\"Y\"], line_width=2, line_color='green')\n",
    "    output_file(\"Scatterchart.html\")\n",
    "    show(plot)"
   ]
  },
  {
   "cell_type": "code",
   "execution_count": 11,
   "metadata": {},
   "outputs": [],
   "source": [
    "from bokeh.plotting import figure, output_file, show\n",
    "import pandas\n",
    "\n",
    "df = pandas.DataFrame(columns=[\"X\", \"Y\"])\n",
    "df[\"X\"] = [1,2,3,4,5]\n",
    "df[\"Y\"] = [5,6,4,5,3]\n",
    "plot = figure(x_axis_label=\"Day of observations\",y_axis_label=\"Temperature\", plot_width=500, plot_height=400)\n",
    "plot.title.text=\"Earthquakes\"\n",
    "plot.title_text_color=\"Purple\"\n",
    "\n",
    "plot.circle(df[\"X\"],df[\"Y\"], color='red', size=[i*2 for i in [8,12,14,15,17]], alpha=0.5)\n",
    "output_file(\"Scatterchart.html\")\n",
    "show(plot)"
   ]
  }
 ],
 "metadata": {
  "kernelspec": {
   "display_name": "Python 3",
   "language": "python",
   "name": "python3"
  },
  "language_info": {
   "codemirror_mode": {
    "name": "ipython",
    "version": 3
   },
   "file_extension": ".py",
   "mimetype": "text/x-python",
   "name": "python",
   "nbconvert_exporter": "python",
   "pygments_lexer": "ipython3",
   "version": "3.6.2"
  }
 },
 "nbformat": 4,
 "nbformat_minor": 4
}
